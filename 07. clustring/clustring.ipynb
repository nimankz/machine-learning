{
 "cells": [
  {
   "cell_type": "markdown",
   "source": [
    "#### clustering: Kmean algorithm"
   ],
   "metadata": {
    "collapsed": false,
    "pycharm": {
     "name": "#%% md\n"
    }
   }
  },
  {
   "cell_type": "code",
   "execution_count": 10,
   "outputs": [],
   "source": [
    "from pandas import DataFrame\n",
    "import pandas as pd\n",
    "import matplotlib.pyplot as plt\n",
    "from sklearn.cluster import KMeans"
   ],
   "metadata": {
    "collapsed": false,
    "pycharm": {
     "name": "#%%\n"
    }
   }
  },
  {
   "cell_type": "code",
   "execution_count": 11,
   "outputs": [],
   "source": [
    "Data={\"x\": [67,25,34,22,27,33,33,31,22,35,34,54,57,43,50,57,59,52,65,47,49,48,35,33,44,45,38,43,51,46,]\n",
    "    ,\"y\": [51,79,51,53,78,59,74,73,57,69,75,32,40,47,53,36,35,58,59,50,25,20,14,12,20,5,19,27,8,7,]}"
   ],
   "metadata": {
    "collapsed": false,
    "pycharm": {
     "name": "#%%\n"
    }
   }
  },
  {
   "cell_type": "code",
   "execution_count": 12,
   "outputs": [],
   "source": [
    "df=DataFrame(Data,columns=[\"x\",\"y\"])\n",
    "# plt.scatter(df[\"x\"],df[\"y\"],color=\"black\", s=50)\n",
    "# plt.show()"
   ],
   "metadata": {
    "collapsed": false,
    "pycharm": {
     "name": "#%%\n"
    }
   }
  },
  {
   "cell_type": "code",
   "execution_count": 30,
   "outputs": [
    {
     "data": {
      "text/plain": "<Figure size 640x480 with 1 Axes>",
      "image/png": "[encoded data removed]"
     },
     "metadata": {},
     "output_type": "display_data"
    },
    {
     "name": "stdout",
     "output_type": "stream",
     "text": [
      "[2 1 1 1 1 1 1 1 1 1 1 2 2 2 2 2 2 2 2 2 0 0 0 0 0 0 0 0 0 0]\n"
     ]
    }
   ],
   "source": [
    "kmeans=KMeans(n_clusters=3).fit(df)\n",
    "centroids=kmeans.cluster_centers_\n",
    "# print(centroids)\n",
    "plt.scatter(df[\"x\"],df[\"y\"] ,c=kmeans.labels_.astype(float), s=50)\n",
    "plt.scatter(centroids[:,0],centroids[:,1],c=\"red\", s=100)\n",
    "plt.show()\n",
    "print(kmeans.labels_)"
   ],
   "metadata": {
    "collapsed": false,
    "pycharm": {
     "name": "#%%\n"
    }
   }
  },
  {
   "cell_type": "code",
   "execution_count": 31,
   "outputs": [
    {
     "name": "stdout",
     "output_type": "stream",
     "text": [
      "[20, 21, 22, 23, 24, 25, 26, 27, 28, 29]\n",
      "     x   y\n",
      "20  49  25\n",
      "     x   y\n",
      "21  48  20\n",
      "     x   y\n",
      "22  35  14\n",
      "     x   y\n",
      "23  33  12\n",
      "     x   y\n",
      "24  44  20\n",
      "     x  y\n",
      "25  45  5\n",
      "     x   y\n",
      "26  38  19\n",
      "     x   y\n",
      "27  43  27\n",
      "     x  y\n",
      "28  51  8\n",
      "     x  y\n",
      "29  46  7\n"
     ]
    }
   ],
   "source": [
    "cluster_map=pd.DataFrame()\n",
    "cluster_map[\"data_index\"]=df.index.values\n",
    "cluster_map[\"cluster\"]=kmeans.labels_\n",
    "indexes=(cluster_map[cluster_map.cluster==0][\"data_index\"].tolist())\n",
    "print(indexes)\n",
    "for x in indexes:\n",
    "    print(df.iloc[x:x+1,:])\n"
   ],
   "metadata": {
    "collapsed": false,
    "pycharm": {
     "name": "#%%\n"
    }
   }
  },
  {
   "cell_type": "code",
   "execution_count": 37,
   "outputs": [
    {
     "name": "stdout",
     "output_type": "stream",
     "text": [
      "[0]\n",
      "1.0\n"
     ]
    },
    {
     "name": "stderr",
     "output_type": "stream",
     "text": [
      "C:\\Users\\GreenLeaf\\AppData\\Roaming\\Python\\Python312\\site-packages\\sklearn\\base.py:493: UserWarning: X does not have valid feature names, but KMeans was fitted with feature names\n",
      "  warnings.warn(\n",
      "C:\\Users\\GreenLeaf\\AppData\\Roaming\\Python\\Python312\\site-packages\\sklearn\\base.py:493: UserWarning: X does not have valid feature names, but KMeans was fitted with feature names\n",
      "  warnings.warn(\n"
     ]
    }
   ],
   "source": [
    "p=kmeans.predict([[30,30]])\n",
    "print(p)\n",
    "\n",
    "p=kmeans.predict(df.values)\n",
    "from sklearn.metrics import accuracy_score\n",
    "print(accuracy_score(p,kmeans.labels_))\n"
   ],
   "metadata": {
    "collapsed": false,
    "pycharm": {
     "name": "#%%\n"
    }
   }
  }
 ],
 "metadata": {
  "kernelspec": {
   "display_name": "Python 3",
   "language": "python",
   "name": "python3"
  },
  "language_info": {
   "codemirror_mode": {
    "name": "ipython",
    "version": 2
   },
   "file_extension": ".py",
   "mimetype": "text/x-python",
   "name": "python",
   "nbconvert_exporter": "python",
   "pygments_lexer": "ipython2",
   "version": "2.7.6"
  }
 },
 "nbformat": 4,
 "nbformat_minor": 0
}