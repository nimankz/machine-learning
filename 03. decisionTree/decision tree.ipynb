{
 "cells": [
  {
   "cell_type": "markdown",
   "source": [
    "## Decision Tree:\n",
    "when wen need to use If/Else statements instead of mathematical formula."
   ],
   "metadata": {
    "collapsed": false,
    "pycharm": {
     "name": "#%% md\n"
    }
   }
  },
  {
   "cell_type": "markdown",
   "source": [
    "#### Reading .csv file:\n"
   ],
   "metadata": {
    "collapsed": false,
    "pycharm": {
     "name": "#%% md\n"
    }
   }
  },
  {
   "cell_type": "code",
   "execution_count": 39,
   "outputs": [],
   "source": [
    "import pandas as pd\n",
    "dataFrame=pd.read_csv(\"dataset_decisionTree.csv\")\n",
    "# print(dataSet)"
   ],
   "metadata": {
    "collapsed": false,
    "pycharm": {
     "name": "#%%\n"
    }
   }
  },
  {
   "cell_type": "markdown",
   "source": [
    "## we should turn all data's into numbers:\n",
    "so we use mapping for turning."
   ],
   "metadata": {
    "collapsed": false,
    "pycharm": {
     "name": "#%% md\n"
    }
   }
  },
  {
   "cell_type": "code",
   "execution_count": 40,
   "outputs": [
    {
     "name": "stdout",
     "output_type": "stream",
     "text": [
      "    city  age  gender  employeed\n",
      "0      1   20       1          1\n",
      "1      1   22       1          1\n",
      "2      1   30       1          1\n",
      "3      1   28       1          1\n",
      "4      1   19       1          2\n",
      "5      1   10       1          2\n",
      "6      1   15       1          2\n",
      "7      1   31       1          2\n",
      "8      1   35       1          2\n",
      "9      1   37       1          2\n",
      "10     1    9       1          2\n",
      "11     1   50       1          2\n",
      "12     1   15       1          2\n",
      "13     1   13       2          2\n",
      "14     1   15       2          1\n",
      "15     1   21       2          1\n",
      "16     1   22       2          1\n",
      "17     1   17       2          1\n",
      "18     1   18       2          1\n",
      "19     1   25       2          2\n",
      "20     1   27       2          2\n",
      "21     1   33       2          2\n",
      "22     1   35       2          2\n",
      "23     2   30       1          1\n",
      "24     2   40       1          1\n",
      "25     2   35       1          1\n",
      "26     2   20       1          2\n",
      "27     2   45       1          2\n",
      "28     2   25       2          1\n",
      "29     2   32       2          1\n",
      "30     2   27       2          1\n",
      "31     2   26       2          1\n",
      "32     2   20       2          2\n",
      "33     2   15       2          2\n",
      "34     2   33       2          2\n",
      "35     2   40       2          2\n",
      "36     2   50       2          2\n",
      "37     2   51       2          1\n",
      "38     2   55       2          1\n",
      "39     2   53       2          1\n",
      "40     2   54       2          1\n",
      "41     2   60       2          2\n",
      "42     2   49       2          2\n"
     ]
    }
   ],
   "source": [
    "dataFrame[\"city\"]=dataFrame[\"city\"].map({\"shiraz\":1,\"tehran\":2})\n",
    "dataFrame[\"gender\"]=dataFrame[\"gender\"].map({\"male\":1,\"female\":2})\n",
    "dataFrame[\"employeed\"]=dataFrame[\"employeed\"].map({\"yes\":1,\"no\":2})\n",
    "print(dataFrame)\n"
   ],
   "metadata": {
    "collapsed": false,
    "pycharm": {
     "name": "#%%\n"
    }
   }
  },
  {
   "cell_type": "markdown",
   "source": [
    "#### Defining X, Y:"
   ],
   "metadata": {
    "collapsed": false,
    "pycharm": {
     "name": "#%% md\n"
    }
   }
  },
  {
   "cell_type": "code",
   "execution_count": 40,
   "outputs": [],
   "source": [],
   "metadata": {
    "collapsed": false,
    "pycharm": {
     "name": "#%%\n"
    }
   }
  },
  {
   "cell_type": "markdown",
   "source": [],
   "metadata": {
    "collapsed": false,
    "pycharm": {
     "name": "#%% md\n"
    }
   }
  },
  {
   "cell_type": "code",
   "execution_count": 41,
   "outputs": [
    {
     "name": "stdout",
     "output_type": "stream",
     "text": [
      "    city  age  gender\n",
      "0      1   20       1\n",
      "1      1   22       1\n",
      "2      1   30       1\n",
      "3      1   28       1\n",
      "4      1   19       1\n",
      "5      1   10       1\n",
      "6      1   15       1\n",
      "7      1   31       1\n",
      "8      1   35       1\n",
      "9      1   37       1\n",
      "10     1    9       1\n",
      "11     1   50       1\n",
      "12     1   15       1\n",
      "13     1   13       2\n",
      "14     1   15       2\n",
      "15     1   21       2\n",
      "16     1   22       2\n",
      "17     1   17       2\n",
      "18     1   18       2\n",
      "19     1   25       2\n",
      "20     1   27       2\n",
      "21     1   33       2\n",
      "22     1   35       2\n",
      "23     2   30       1\n",
      "24     2   40       1\n",
      "25     2   35       1\n",
      "26     2   20       1\n",
      "27     2   45       1\n",
      "28     2   25       2\n",
      "29     2   32       2\n",
      "30     2   27       2\n",
      "31     2   26       2\n",
      "32     2   20       2\n",
      "33     2   15       2\n",
      "34     2   33       2\n",
      "35     2   40       2\n",
      "36     2   50       2\n",
      "37     2   51       2\n",
      "38     2   55       2\n",
      "39     2   53       2\n",
      "40     2   54       2\n",
      "41     2   60       2\n",
      "42     2   49       2\n",
      "0     1\n",
      "1     1\n",
      "2     1\n",
      "3     1\n",
      "4     2\n",
      "5     2\n",
      "6     2\n",
      "7     2\n",
      "8     2\n",
      "9     2\n",
      "10    2\n",
      "11    2\n",
      "12    2\n",
      "13    2\n",
      "14    1\n",
      "15    1\n",
      "16    1\n",
      "17    1\n",
      "18    1\n",
      "19    2\n",
      "20    2\n",
      "21    2\n",
      "22    2\n",
      "23    1\n",
      "24    1\n",
      "25    1\n",
      "26    2\n",
      "27    2\n",
      "28    1\n",
      "29    1\n",
      "30    1\n",
      "31    1\n",
      "32    2\n",
      "33    2\n",
      "34    2\n",
      "35    2\n",
      "36    2\n",
      "37    1\n",
      "38    1\n",
      "39    1\n",
      "40    1\n",
      "41    2\n",
      "42    2\n",
      "Name: employeed, dtype: int64\n"
     ]
    }
   ],
   "source": [
    "x=dataFrame[[\"city\",\"age\",\"gender\"]]#if we have several columns we use [[]].\n",
    "y=dataFrame[\"employeed\"]#if we have one column we use []\n",
    "print(x)\n",
    "print(y)"
   ],
   "metadata": {
    "collapsed": false,
    "pycharm": {
     "name": "#%%\n"
    }
   }
  },
  {
   "cell_type": "markdown",
   "source": [
    "## fitting:"
   ],
   "metadata": {
    "collapsed": false,
    "pycharm": {
     "name": "#%% md\n"
    }
   }
  },
  {
   "cell_type": "code",
   "execution_count": 42,
   "outputs": [
    {
     "data": {
      "text/plain": "DecisionTreeClassifier()",
      "text/html": "<style>#sk-container-id-3 {\n  /* Definition of color scheme common for light and dark mode */\n  --sklearn-color-text: black;\n  --sklearn-color-line: gray;\n  /* Definition of color scheme for unfitted estimators */\n  --sklearn-color-unfitted-level-0: #fff5e6;\n  --sklearn-color-unfitted-level-1: #f6e4d2;\n  --sklearn-color-unfitted-level-2: #ffe0b3;\n  --sklearn-color-unfitted-level-3: chocolate;\n  /* Definition of color scheme for fitted estimators */\n  --sklearn-color-fitted-level-0: #f0f8ff;\n  --sklearn-color-fitted-level-1: #d4ebff;\n  --sklearn-color-fitted-level-2: #b3dbfd;\n  --sklearn-color-fitted-level-3: cornflowerblue;\n\n  /* Specific color for light theme */\n  --sklearn-color-text-on-default-background: var(--sg-text-color, var(--theme-code-foreground, var(--jp-content-font-color1, black)));\n  --sklearn-color-background: var(--sg-background-color, var(--theme-background, var(--jp-layout-color0, white)));\n  --sklearn-color-border-box: var(--sg-text-color, var(--theme-code-foreground, var(--jp-content-font-color1, black)));\n  --sklearn-color-icon: #696969;\n\n  @media (prefers-color-scheme: dark) {\n    /* Redefinition of color scheme for dark theme */\n    --sklearn-color-text-on-default-background: var(--sg-text-color, var(--theme-code-foreground, var(--jp-content-font-color1, white)));\n    --sklearn-color-background: var(--sg-background-color, var(--theme-background, var(--jp-layout-color0, #111)));\n    --sklearn-color-border-box: var(--sg-text-color, var(--theme-code-foreground, var(--jp-content-font-color1, white)));\n    --sklearn-color-icon: #878787;\n  }\n}\n\n#sk-container-id-3 {\n  color: var(--sklearn-color-text);\n}\n\n#sk-container-id-3 pre {\n  padding: 0;\n}\n\n#sk-container-id-3 input.sk-hidden--visually {\n  border: 0;\n  clip: rect(1px 1px 1px 1px);\n  clip: rect(1px, 1px, 1px, 1px);\n  height: 1px;\n  margin: -1px;\n  overflow: hidden;\n  padding: 0;\n  position: absolute;\n  width: 1px;\n}\n\n#sk-container-id-3 div.sk-dashed-wrapped {\n  border: 1px dashed var(--sklearn-color-line);\n  margin: 0 0.4em 0.5em 0.4em;\n  box-sizing: border-box;\n  padding-bottom: 0.4em;\n  background-color: var(--sklearn-color-background);\n}\n\n#sk-container-id-3 div.sk-container {\n  /* jupyter's `normalize.less` sets `[hidden] { display: none; }`\n     but bootstrap.min.css set `[hidden] { display: none !important; }`\n     so we also need the `!important` here to be able to override the\n     default hidden behavior on the sphinx rendered scikit-learn.org.\n     See: https://github.com/scikit-learn/scikit-learn/issues/21755 */\n  display: inline-block !important;\n  position: relative;\n}\n\n#sk-container-id-3 div.sk-text-repr-fallback {\n  display: none;\n}\n\ndiv.sk-parallel-item,\ndiv.sk-serial,\ndiv.sk-item {\n  /* draw centered vertical line to link estimators */\n  background-image: linear-gradient(var(--sklearn-color-text-on-default-background), var(--sklearn-color-text-on-default-background));\n  background-size: 2px 100%;\n  background-repeat: no-repeat;\n  background-position: center center;\n}\n\n/* Parallel-specific style estimator block */\n\n#sk-container-id-3 div.sk-parallel-item::after {\n  content: \"\";\n  width: 100%;\n  border-bottom: 2px solid var(--sklearn-color-text-on-default-background);\n  flex-grow: 1;\n}\n\n#sk-container-id-3 div.sk-parallel {\n  display: flex;\n  align-items: stretch;\n  justify-content: center;\n  background-color: var(--sklearn-color-background);\n  position: relative;\n}\n\n#sk-container-id-3 div.sk-parallel-item {\n  display: flex;\n  flex-direction: column;\n}\n\n#sk-container-id-3 div.sk-parallel-item:first-child::after {\n  align-self: flex-end;\n  width: 50%;\n}\n\n#sk-container-id-3 div.sk-parallel-item:last-child::after {\n  align-self: flex-start;\n  width: 50%;\n}\n\n#sk-container-id-3 div.sk-parallel-item:only-child::after {\n  width: 0;\n}\n\n/* Serial-specific style estimator block */\n\n#sk-container-id-3 div.sk-serial {\n  display: flex;\n  flex-direction: column;\n  align-items: center;\n  background-color: var(--sklearn-color-background);\n  padding-right: 1em;\n  padding-left: 1em;\n}\n\n\n/* Toggleable style: style used for estimator/Pipeline/ColumnTransformer box that is\nclickable and can be expanded/collapsed.\n- Pipeline and ColumnTransformer use this feature and define the default style\n- Estimators will overwrite some part of the style using the `sk-estimator` class\n*/\n\n/* Pipeline and ColumnTransformer style (default) */\n\n#sk-container-id-3 div.sk-toggleable {\n  /* Default theme specific background. It is overwritten whether we have a\n  specific estimator or a Pipeline/ColumnTransformer */\n  background-color: var(--sklearn-color-background);\n}\n\n/* Toggleable label */\n#sk-container-id-3 label.sk-toggleable__label {\n  cursor: pointer;\n  display: block;\n  width: 100%;\n  margin-bottom: 0;\n  padding: 0.5em;\n  box-sizing: border-box;\n  text-align: center;\n}\n\n#sk-container-id-3 label.sk-toggleable__label-arrow:before {\n  /* Arrow on the left of the label */\n  content: \"▸\";\n  float: left;\n  margin-right: 0.25em;\n  color: var(--sklearn-color-icon);\n}\n\n#sk-container-id-3 label.sk-toggleable__label-arrow:hover:before {\n  color: var(--sklearn-color-text);\n}\n\n/* Toggleable content - dropdown */\n\n#sk-container-id-3 div.sk-toggleable__content {\n  max-height: 0;\n  max-width: 0;\n  overflow: hidden;\n  text-align: left;\n  /* unfitted */\n  background-color: var(--sklearn-color-unfitted-level-0);\n}\n\n#sk-container-id-3 div.sk-toggleable__content.fitted {\n  /* fitted */\n  background-color: var(--sklearn-color-fitted-level-0);\n}\n\n#sk-container-id-3 div.sk-toggleable__content pre {\n  margin: 0.2em;\n  border-radius: 0.25em;\n  color: var(--sklearn-color-text);\n  /* unfitted */\n  background-color: var(--sklearn-color-unfitted-level-0);\n}\n\n#sk-container-id-3 div.sk-toggleable__content.fitted pre {\n  /* unfitted */\n  background-color: var(--sklearn-color-fitted-level-0);\n}\n\n#sk-container-id-3 input.sk-toggleable__control:checked~div.sk-toggleable__content {\n  /* Expand drop-down */\n  max-height: 200px;\n  max-width: 100%;\n  overflow: auto;\n}\n\n#sk-container-id-3 input.sk-toggleable__control:checked~label.sk-toggleable__label-arrow:before {\n  content: \"▾\";\n}\n\n/* Pipeline/ColumnTransformer-specific style */\n\n#sk-container-id-3 div.sk-label input.sk-toggleable__control:checked~label.sk-toggleable__label {\n  color: var(--sklearn-color-text);\n  background-color: var(--sklearn-color-unfitted-level-2);\n}\n\n#sk-container-id-3 div.sk-label.fitted input.sk-toggleable__control:checked~label.sk-toggleable__label {\n  background-color: var(--sklearn-color-fitted-level-2);\n}\n\n/* Estimator-specific style */\n\n/* Colorize estimator box */\n#sk-container-id-3 div.sk-estimator input.sk-toggleable__control:checked~label.sk-toggleable__label {\n  /* unfitted */\n  background-color: var(--sklearn-color-unfitted-level-2);\n}\n\n#sk-container-id-3 div.sk-estimator.fitted input.sk-toggleable__control:checked~label.sk-toggleable__label {\n  /* fitted */\n  background-color: var(--sklearn-color-fitted-level-2);\n}\n\n#sk-container-id-3 div.sk-label label.sk-toggleable__label,\n#sk-container-id-3 div.sk-label label {\n  /* The background is the default theme color */\n  color: var(--sklearn-color-text-on-default-background);\n}\n\n/* On hover, darken the color of the background */\n#sk-container-id-3 div.sk-label:hover label.sk-toggleable__label {\n  color: var(--sklearn-color-text);\n  background-color: var(--sklearn-color-unfitted-level-2);\n}\n\n/* Label box, darken color on hover, fitted */\n#sk-container-id-3 div.sk-label.fitted:hover label.sk-toggleable__label.fitted {\n  color: var(--sklearn-color-text);\n  background-color: var(--sklearn-color-fitted-level-2);\n}\n\n/* Estimator label */\n\n#sk-container-id-3 div.sk-label label {\n  font-family: monospace;\n  font-weight: bold;\n  display: inline-block;\n  line-height: 1.2em;\n}\n\n#sk-container-id-3 div.sk-label-container {\n  text-align: center;\n}\n\n/* Estimator-specific */\n#sk-container-id-3 div.sk-estimator {\n  font-family: monospace;\n  border: 1px dotted var(--sklearn-color-border-box);\n  border-radius: 0.25em;\n  box-sizing: border-box;\n  margin-bottom: 0.5em;\n  /* unfitted */\n  background-color: var(--sklearn-color-unfitted-level-0);\n}\n\n#sk-container-id-3 div.sk-estimator.fitted {\n  /* fitted */\n  background-color: var(--sklearn-color-fitted-level-0);\n}\n\n/* on hover */\n#sk-container-id-3 div.sk-estimator:hover {\n  /* unfitted */\n  background-color: var(--sklearn-color-unfitted-level-2);\n}\n\n#sk-container-id-3 div.sk-estimator.fitted:hover {\n  /* fitted */\n  background-color: var(--sklearn-color-fitted-level-2);\n}\n\n/* Specification for estimator info (e.g. \"i\" and \"?\") */\n\n/* Common style for \"i\" and \"?\" */\n\n.sk-estimator-doc-link,\na:link.sk-estimator-doc-link,\na:visited.sk-estimator-doc-link {\n  float: right;\n  font-size: smaller;\n  line-height: 1em;\n  font-family: monospace;\n  background-color: var(--sklearn-color-background);\n  border-radius: 1em;\n  height: 1em;\n  width: 1em;\n  text-decoration: none !important;\n  margin-left: 1ex;\n  /* unfitted */\n  border: var(--sklearn-color-unfitted-level-1) 1pt solid;\n  color: var(--sklearn-color-unfitted-level-1);\n}\n\n.sk-estimator-doc-link.fitted,\na:link.sk-estimator-doc-link.fitted,\na:visited.sk-estimator-doc-link.fitted {\n  /* fitted */\n  border: var(--sklearn-color-fitted-level-1) 1pt solid;\n  color: var(--sklearn-color-fitted-level-1);\n}\n\n/* On hover */\ndiv.sk-estimator:hover .sk-estimator-doc-link:hover,\n.sk-estimator-doc-link:hover,\ndiv.sk-label-container:hover .sk-estimator-doc-link:hover,\n.sk-estimator-doc-link:hover {\n  /* unfitted */\n  background-color: var(--sklearn-color-unfitted-level-3);\n  color: var(--sklearn-color-background);\n  text-decoration: none;\n}\n\ndiv.sk-estimator.fitted:hover .sk-estimator-doc-link.fitted:hover,\n.sk-estimator-doc-link.fitted:hover,\ndiv.sk-label-container:hover .sk-estimator-doc-link.fitted:hover,\n.sk-estimator-doc-link.fitted:hover {\n  /* fitted */\n  background-color: var(--sklearn-color-fitted-level-3);\n  color: var(--sklearn-color-background);\n  text-decoration: none;\n}\n\n/* Span, style for the box shown on hovering the info icon */\n.sk-estimator-doc-link span {\n  display: none;\n  z-index: 9999;\n  position: relative;\n  font-weight: normal;\n  right: .2ex;\n  padding: .5ex;\n  margin: .5ex;\n  width: min-content;\n  min-width: 20ex;\n  max-width: 50ex;\n  color: var(--sklearn-color-text);\n  box-shadow: 2pt 2pt 4pt #999;\n  /* unfitted */\n  background: var(--sklearn-color-unfitted-level-0);\n  border: .5pt solid var(--sklearn-color-unfitted-level-3);\n}\n\n.sk-estimator-doc-link.fitted span {\n  /* fitted */\n  background: var(--sklearn-color-fitted-level-0);\n  border: var(--sklearn-color-fitted-level-3);\n}\n\n.sk-estimator-doc-link:hover span {\n  display: block;\n}\n\n/* \"?\"-specific style due to the `<a>` HTML tag */\n\n#sk-container-id-3 a.estimator_doc_link {\n  float: right;\n  font-size: 1rem;\n  line-height: 1em;\n  font-family: monospace;\n  background-color: var(--sklearn-color-background);\n  border-radius: 1rem;\n  height: 1rem;\n  width: 1rem;\n  text-decoration: none;\n  /* unfitted */\n  color: var(--sklearn-color-unfitted-level-1);\n  border: var(--sklearn-color-unfitted-level-1) 1pt solid;\n}\n\n#sk-container-id-3 a.estimator_doc_link.fitted {\n  /* fitted */\n  border: var(--sklearn-color-fitted-level-1) 1pt solid;\n  color: var(--sklearn-color-fitted-level-1);\n}\n\n/* On hover */\n#sk-container-id-3 a.estimator_doc_link:hover {\n  /* unfitted */\n  background-color: var(--sklearn-color-unfitted-level-3);\n  color: var(--sklearn-color-background);\n  text-decoration: none;\n}\n\n#sk-container-id-3 a.estimator_doc_link.fitted:hover {\n  /* fitted */\n  background-color: var(--sklearn-color-fitted-level-3);\n}\n</style><div id=\"sk-container-id-3\" class=\"sk-top-container\"><div class=\"sk-text-repr-fallback\"><pre>DecisionTreeClassifier()</pre><b>In a Jupyter environment, please rerun this cell to show the HTML representation or trust the notebook. <br />On GitHub, the HTML representation is unable to render, please try loading this page with nbviewer.org.</b></div><div class=\"sk-container\" hidden><div class=\"sk-item\"><div class=\"sk-estimator fitted sk-toggleable\"><input class=\"sk-toggleable__control sk-hidden--visually\" id=\"sk-estimator-id-3\" type=\"checkbox\" checked><label for=\"sk-estimator-id-3\" class=\"sk-toggleable__label fitted sk-toggleable__label-arrow fitted\">&nbsp;&nbsp;DecisionTreeClassifier<a class=\"sk-estimator-doc-link fitted\" rel=\"noreferrer\" target=\"_blank\" href=\"https://scikit-learn.org/1.5/modules/generated/sklearn.tree.DecisionTreeClassifier.html\">?<span>Documentation for DecisionTreeClassifier</span></a><span class=\"sk-estimator-doc-link fitted\">i<span>Fitted</span></span></label><div class=\"sk-toggleable__content fitted\"><pre>DecisionTreeClassifier()</pre></div> </div></div></div></div>"
     },
     "execution_count": 42,
     "metadata": {},
     "output_type": "execute_result"
    }
   ],
   "source": [
    "from sklearn.tree import DecisionTreeClassifier\n",
    "dtree=DecisionTreeClassifier()\n",
    "dtree.fit(x,y)\n",
    "# p= dtree.predict([[2,15,2]])\n",
    "# print(p)"
   ],
   "metadata": {
    "collapsed": false,
    "pycharm": {
     "name": "#%%\n"
    }
   }
  },
  {
   "cell_type": "markdown",
   "source": [
    "## See the results:\n",
    "but we can not figure this out."
   ],
   "metadata": {
    "collapsed": false,
    "pycharm": {
     "name": "#%% md\n"
    }
   }
  },
  {
   "cell_type": "code",
   "execution_count": 43,
   "outputs": [
    {
     "name": "stdout",
     "output_type": "stream",
     "text": [
      "|--- feature_1 <= 16.00\n",
      "|   |--- feature_2 <= 1.50\n",
      "|   |   |--- class: 2\n",
      "|   |--- feature_2 >  1.50\n",
      "|   |   |--- feature_1 <= 14.00\n",
      "|   |   |   |--- class: 2\n",
      "|   |   |--- feature_1 >  14.00\n",
      "|   |   |   |--- feature_0 <= 1.50\n",
      "|   |   |   |   |--- class: 1\n",
      "|   |   |   |--- feature_0 >  1.50\n",
      "|   |   |   |   |--- class: 2\n",
      "|--- feature_1 >  16.00\n",
      "|   |--- feature_1 <= 30.50\n",
      "|   |   |--- feature_1 <= 20.50\n",
      "|   |   |   |--- feature_1 <= 18.50\n",
      "|   |   |   |   |--- class: 1\n",
      "|   |   |   |--- feature_1 >  18.50\n",
      "|   |   |   |   |--- feature_0 <= 1.50\n",
      "|   |   |   |   |   |--- feature_1 <= 19.50\n",
      "|   |   |   |   |   |   |--- class: 2\n",
      "|   |   |   |   |   |--- feature_1 >  19.50\n",
      "|   |   |   |   |   |   |--- class: 1\n",
      "|   |   |   |   |--- feature_0 >  1.50\n",
      "|   |   |   |   |   |--- class: 2\n",
      "|   |   |--- feature_1 >  20.50\n",
      "|   |   |   |--- feature_2 <= 1.50\n",
      "|   |   |   |   |--- class: 1\n",
      "|   |   |   |--- feature_2 >  1.50\n",
      "|   |   |   |   |--- feature_0 <= 1.50\n",
      "|   |   |   |   |   |--- feature_1 <= 23.50\n",
      "|   |   |   |   |   |   |--- class: 1\n",
      "|   |   |   |   |   |--- feature_1 >  23.50\n",
      "|   |   |   |   |   |   |--- class: 2\n",
      "|   |   |   |   |--- feature_0 >  1.50\n",
      "|   |   |   |   |   |--- class: 1\n",
      "|   |--- feature_1 >  30.50\n",
      "|   |   |--- feature_1 <= 50.50\n",
      "|   |   |   |--- feature_0 <= 1.50\n",
      "|   |   |   |   |--- class: 2\n",
      "|   |   |   |--- feature_0 >  1.50\n",
      "|   |   |   |   |--- feature_1 <= 42.50\n",
      "|   |   |   |   |   |--- feature_2 <= 1.50\n",
      "|   |   |   |   |   |   |--- class: 1\n",
      "|   |   |   |   |   |--- feature_2 >  1.50\n",
      "|   |   |   |   |   |   |--- feature_1 <= 32.50\n",
      "|   |   |   |   |   |   |   |--- class: 1\n",
      "|   |   |   |   |   |   |--- feature_1 >  32.50\n",
      "|   |   |   |   |   |   |   |--- class: 2\n",
      "|   |   |   |   |--- feature_1 >  42.50\n",
      "|   |   |   |   |   |--- class: 2\n",
      "|   |   |--- feature_1 >  50.50\n",
      "|   |   |   |--- feature_1 <= 57.50\n",
      "|   |   |   |   |--- class: 1\n",
      "|   |   |   |--- feature_1 >  57.50\n",
      "|   |   |   |   |--- class: 2\n",
      "\n"
     ]
    }
   ],
   "source": [
    "from sklearn import tree\n",
    "text=tree.export_text(dtree)\n",
    "print(text)\n"
   ],
   "metadata": {
    "collapsed": false,
    "pycharm": {
     "name": "#%%\n"
    }
   }
  },
  {
   "cell_type": "markdown",
   "source": [
    "## Make answer readable:"
   ],
   "metadata": {
    "collapsed": false,
    "pycharm": {
     "name": "#%% md\n"
    }
   }
  },
  {
   "cell_type": "code",
   "execution_count": 45,
   "outputs": [
    {
     "name": "stdout",
     "output_type": "stream",
     "text": [
      "|--- Age <= 16.00\n",
      "|   |--- Male\n",
      "|   |   |--- No\n",
      "|   |--- feature_2 >  1.50\n",
      "|   |   |--- Age <= 14.00\n",
      "|   |   |   |--- No\n",
      "|   |   |--- Age >  14.00\n",
      "|   |   |   |--- Shiraz\n",
      "|   |   |   |   |--- Yes\n",
      "|   |   |   |--- Tehran\n",
      "|   |   |   |   |--- No\n",
      "|--- Age >  16.00\n",
      "|   |--- Age <= 30.50\n",
      "|   |   |--- Age <= 20.50\n",
      "|   |   |   |--- Age <= 18.50\n",
      "|   |   |   |   |--- Yes\n",
      "|   |   |   |--- Age >  18.50\n",
      "|   |   |   |   |--- Shiraz\n",
      "|   |   |   |   |   |--- Age <= 19.50\n",
      "|   |   |   |   |   |   |--- No\n",
      "|   |   |   |   |   |--- Age >  19.50\n",
      "|   |   |   |   |   |   |--- Yes\n",
      "|   |   |   |   |--- Tehran\n",
      "|   |   |   |   |   |--- No\n",
      "|   |   |--- Age >  20.50\n",
      "|   |   |   |--- Male\n",
      "|   |   |   |   |--- Yes\n",
      "|   |   |   |--- feature_2 >  1.50\n",
      "|   |   |   |   |--- Shiraz\n",
      "|   |   |   |   |   |--- Age <= 23.50\n",
      "|   |   |   |   |   |   |--- Yes\n",
      "|   |   |   |   |   |--- Age >  23.50\n",
      "|   |   |   |   |   |   |--- No\n",
      "|   |   |   |   |--- Tehran\n",
      "|   |   |   |   |   |--- Yes\n",
      "|   |--- Age >  30.50\n",
      "|   |   |--- Age <= 50.50\n",
      "|   |   |   |--- Shiraz\n",
      "|   |   |   |   |--- No\n",
      "|   |   |   |--- Tehran\n",
      "|   |   |   |   |--- Age <= 42.50\n",
      "|   |   |   |   |   |--- Male\n",
      "|   |   |   |   |   |   |--- Yes\n",
      "|   |   |   |   |   |--- feature_2 >  1.50\n",
      "|   |   |   |   |   |   |--- Age <= 32.50\n",
      "|   |   |   |   |   |   |   |--- Yes\n",
      "|   |   |   |   |   |   |--- Age >  32.50\n",
      "|   |   |   |   |   |   |   |--- No\n",
      "|   |   |   |   |--- Age >  42.50\n",
      "|   |   |   |   |   |--- No\n",
      "|   |   |--- Age >  50.50\n",
      "|   |   |   |--- Age <= 57.50\n",
      "|   |   |   |   |--- Yes\n",
      "|   |   |   |--- Age >  57.50\n",
      "|   |   |   |   |--- No\n",
      "\n"
     ]
    }
   ],
   "source": [
    "text=text.replace(\"feature_0 <= 1.50\",\"Shiraz\")\n",
    "text=text.replace(\"feature_0 >  1.50\",\"Tehran\")\n",
    "text=text.replace(\"feature_2 <= 1.50\",\"Male\")\n",
    "text=text.replace(\"feature_2 > 1.50\",\"female\")\n",
    "text=text.replace(\"feature_1\",\"Age\")\n",
    "text=text.replace(\"class: 1\",\"Yes\")\n",
    "text=text.replace(\"class: 2\",\"No\")\n",
    "print(text)"
   ],
   "metadata": {
    "collapsed": false,
    "pycharm": {
     "name": "#%%\n"
    }
   }
  },
  {
   "cell_type": "code",
   "execution_count": 44,
   "outputs": [],
   "source": [],
   "metadata": {
    "collapsed": false,
    "pycharm": {
     "name": "#%%\n"
    }
   }
  }
 ],
 "metadata": {
  "kernelspec": {
   "display_name": "Python 3",
   "language": "python",
   "name": "python3"
  },
  "language_info": {
   "codemirror_mode": {
    "name": "ipython",
    "version": 2
   },
   "file_extension": ".py",
   "mimetype": "text/x-python",
   "name": "python",
   "nbconvert_exporter": "python",
   "pygments_lexer": "ipython2",
   "version": "2.7.6"
  }
 },
 "nbformat": 4,
 "nbformat_minor": 0
}