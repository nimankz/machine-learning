{
 "cells": [
  {
   "cell_type": "markdown",
   "source": [
    "## Linear Regrassion:\n",
    "If your data can be fenced between 2 parallel lines(no curves), this method is suggested."
   ],
   "metadata": {
    "collapsed": false,
    "pycharm": {
     "name": "#%% md\n"
    }
   }
  },
  {
   "cell_type": "markdown",
   "source": [
    "#### Reading .csv file:"
   ],
   "metadata": {
    "collapsed": false,
    "pycharm": {
     "name": "#%% md\n"
    }
   }
  },
  {
   "cell_type": "code",
   "execution_count": 6,
   "outputs": [],
   "source": [
    "import pandas as pd\n",
    "#data frame(dataSet)\n",
    "dataSet=pd.read_csv(\"Salary_Data.csv\")\n",
    "#print(dataSet)"
   ],
   "metadata": {
    "collapsed": false,
    "pycharm": {
     "name": "#%%\n"
    }
   }
  },
  {
   "cell_type": "markdown",
   "source": [
    "#### Defining X, Y:"
   ],
   "metadata": {
    "collapsed": false,
    "pycharm": {
     "name": "#%% md\n"
    }
   }
  },
  {
   "cell_type": "code",
   "execution_count": 7,
   "outputs": [],
   "source": [
    "features = dataSet.iloc[:,0].values\n",
    "targets = dataSet.iloc[:,1].values\n",
    "# print(features)\n",
    "# print(targets)"
   ],
   "metadata": {
    "collapsed": false,
    "pycharm": {
     "name": "#%%\n"
    }
   }
  },
  {
   "cell_type": "markdown",
   "source": [
    "#### Splitting Train and Test(randomly):"
   ],
   "metadata": {
    "collapsed": false,
    "pycharm": {
     "name": "#%% md\n"
    }
   }
  },
  {
   "cell_type": "code",
   "execution_count": 8,
   "outputs": [],
   "source": [
    "from sklearn.model_selection import train_test_split\n",
    "featuresTrain,featuresTest,targetsTrain,targetsTest=train_test_split(features,targets, test_size= 0.3)#70% for training and 30% for test.\n",
    "# print(featuresTrain,featuresTest,targetsTrain,targetsTest,sep=\"\\n\")"
   ],
   "metadata": {
    "collapsed": false,
    "pycharm": {
     "name": "#%%\n"
    }
   }
  },
  {
   "cell_type": "markdown",
   "source": [
    "#### Training model to predict answers:"
   ],
   "metadata": {
    "collapsed": false,
    "pycharm": {
     "name": "#%% md\n"
    }
   }
  },
  {
   "cell_type": "code",
   "execution_count": 9,
   "outputs": [
    {
     "name": "stdout",
     "output_type": "stream",
     "text": [
      "[[115623.242031  ]\n",
      " [ 69062.9956184 ]\n",
      " [ 93274.32375295]\n",
      " [116554.44695925]\n",
      " [ 56957.33155112]\n",
      " [ 37402.02805783]\n",
      " [ 82099.86461393]\n",
      " [ 61613.35619238]\n",
      " [ 47645.2822686 ]]\n",
      "[116969.  61111.  98273. 112635.  54445.  39343.  81363.  57189.  39891.]\n"
     ]
    }
   ],
   "source": [
    "from sklearn.linear_model import LinearRegression\n",
    "model=LinearRegression()\n",
    "\n",
    "#[1,3,5,6].reshape(-1,1) ===> [[1],[3],[5],[6]]\n",
    "model.fit(featuresTrain.reshape(-1,1),targetsTrain.reshape(-1,1))\n",
    "predictedAnswer=model.predict(featuresTest.reshape(-1,1))\n",
    "# print(predictedAnswer) #predicted answers\n",
    "# print(targetsTest) #real answers\n"
   ],
   "metadata": {
    "collapsed": false,
    "pycharm": {
     "name": "#%%\n"
    }
   }
  },
  {
   "cell_type": "markdown",
   "source": [
    "#### Checking the accuracy of predicted answers:"
   ],
   "metadata": {
    "collapsed": false,
    "pycharm": {
     "name": "#%% md\n"
    }
   }
  },
  {
   "cell_type": "code",
   "execution_count": 10,
   "outputs": [
    {
     "name": "stdout",
     "output_type": "stream",
     "text": [
      "0.9697037675028151\n"
     ]
    }
   ],
   "source": [
    "from sklearn.metrics import r2_score\n",
    "accuracy= r2_score(predictedAnswer,targetsTest)\n",
    "print(accuracy)"
   ],
   "metadata": {
    "collapsed": false,
    "pycharm": {
     "name": "#%%\n"
    }
   }
  },
  {
   "cell_type": "markdown",
   "source": [
    "#### Your test:"
   ],
   "metadata": {
    "collapsed": false,
    "pycharm": {
     "name": "#%% md\n"
    }
   }
  },
  {
   "cell_type": "code",
   "execution_count": 11,
   "outputs": [
    {
     "name": "stdout",
     "output_type": "stream",
     "text": [
      "[[73719.02025966]]\n"
     ]
    }
   ],
   "source": [
    "years=float(input(\"years of experience:\"))\n",
    "predict=model.predict([[years]])\n",
    "print(predict)"
   ],
   "metadata": {
    "collapsed": false,
    "pycharm": {
     "name": "#%%\n"
    }
   }
  },
  {
   "cell_type": "code",
   "execution_count": 11,
   "outputs": [],
   "source": [],
   "metadata": {
    "collapsed": false,
    "pycharm": {
     "name": "#%%\n"
    }
   }
  }
 ],
 "metadata": {
  "kernelspec": {
   "display_name": "Python 3",
   "language": "python",
   "name": "python3"
  },
  "language_info": {
   "codemirror_mode": {
    "name": "ipython",
    "version": 2
   },
   "file_extension": ".py",
   "mimetype": "text/x-python",
   "name": "python",
   "nbconvert_exporter": "python",
   "pygments_lexer": "ipython2",
   "version": "2.7.6"
  }
 },
 "nbformat": 4,
 "nbformat_minor": 0
}