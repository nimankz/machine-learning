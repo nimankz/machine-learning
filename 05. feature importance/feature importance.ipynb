{
 "cells": [
  {
   "cell_type": "markdown",
   "source": [
    "#### 2.Feature Importance:\n",
    "check if the feature is important or not, if it isn't important then should be deleted.\n",
    "#### Random Forest:\n",
    "decision tree makes 1 tree but random forest makes more than one tree."
   ],
   "metadata": {
    "collapsed": false,
    "pycharm": {
     "name": "#%% md\n"
    }
   }
  },
  {
   "cell_type": "code",
   "execution_count": 23,
   "outputs": [],
   "source": [
    "import pandas as pd\n",
    "data= pd.read_csv(\"titanic.csv\")\n",
    "# print(data)\n"
   ],
   "metadata": {
    "collapsed": false,
    "pycharm": {
     "name": "#%%\n"
    }
   }
  },
  {
   "cell_type": "markdown",
   "source": [
    "#### loading data\n",
    "some datas are empty, for not distributed training, should be replaced."
   ],
   "metadata": {
    "collapsed": false,
    "pycharm": {
     "name": "#%% md\n"
    }
   }
  },
  {
   "cell_type": "code",
   "execution_count": 24,
   "outputs": [
    {
     "name": "stdout",
     "output_type": "stream",
     "text": [
      "     Pclass  Sex   Age  SibSp     Fare  Embarked\n",
      "0         3    1  22.0      1   7.2500         2\n",
      "1         1    2  38.0      1  71.2833         1\n",
      "2         3    2  26.0      0   7.9250         2\n",
      "3         1    2  35.0      1  53.1000         2\n",
      "4         3    1  35.0      0   8.0500         2\n",
      "..      ...  ...   ...    ...      ...       ...\n",
      "886       2    1  27.0      0  13.0000         2\n",
      "887       1    2  19.0      0  30.0000         2\n",
      "888       3    2     0      1  23.4500         2\n",
      "889       1    1  26.0      0  30.0000         1\n",
      "890       3    1  32.0      0   7.7500         3\n",
      "\n",
      "[891 rows x 6 columns]\n"
     ]
    }
   ],
   "source": [
    "y=data[\"Survived\"]\n",
    "\n",
    "data[\"Age\"]=data[\"Age\"].fillna(\"0\")\n",
    "data[\"Fare\"]=data[\"Fare\"].fillna(\"0\")\n",
    "data[\"Embarked\"]=data[\"Embarked\"].fillna(\"C\")\n",
    "data[\"SibSp\"]=data[\"SibSp\"].fillna(\"0\")\n",
    "\n",
    "data[\"Sex\"]=data[\"Sex\"].map({\"male\":1,\"female\":2})\n",
    "data[\"Embarked\"]=data[\"Embarked\"].map({\"C\":1,\"S\":2,\"Q\":3})\n",
    "\n",
    "x=data[[\"Pclass\",\"Sex\",\"Age\",\"SibSp\",\"Fare\",\"Embarked\"]]\n",
    "print(x)"
   ],
   "metadata": {
    "collapsed": false,
    "pycharm": {
     "name": "#%%\n"
    }
   }
  },
  {
   "cell_type": "markdown",
   "source": [],
   "metadata": {
    "collapsed": false,
    "pycharm": {
     "name": "#%% md\n"
    }
   }
  },
  {
   "cell_type": "markdown",
   "source": [
    "#### Splitting train and test then, fitting model."
   ],
   "metadata": {
    "collapsed": false,
    "pycharm": {
     "name": "#%% md\n"
    }
   }
  },
  {
   "cell_type": "code",
   "execution_count": 25,
   "outputs": [],
   "source": [
    "from sklearn.model_selection import train_test_split\n",
    "x_train, x_test , y_train, y_test = train_test_split(x,y,test_size=0.2)\n",
    "\n",
    "from sklearn.ensemble import RandomForestClassifier\n",
    "model= RandomForestClassifier(n_estimators=100)\n",
    "model.fit(x_train, y_train)\n",
    "p=model.predict(x_test)"
   ],
   "metadata": {
    "collapsed": false,
    "pycharm": {
     "name": "#%%\n"
    }
   }
  },
  {
   "cell_type": "markdown",
   "source": [
    "#### Check the accuracy:"
   ],
   "metadata": {
    "collapsed": false,
    "pycharm": {
     "name": "#%% md\n"
    }
   }
  },
  {
   "cell_type": "code",
   "execution_count": 26,
   "outputs": [
    {
     "name": "stdout",
     "output_type": "stream",
     "text": [
      "accuracy of random forest is: 0.8547486033519553\n"
     ]
    }
   ],
   "source": [
    "from sklearn.metrics import accuracy_score\n",
    "print(\"accuracy of random forest is:\",accuracy_score(p,y_test))"
   ],
   "metadata": {
    "collapsed": false,
    "pycharm": {
     "name": "#%%\n"
    }
   }
  },
  {
   "cell_type": "code",
   "execution_count": 27,
   "outputs": [],
   "source": [
    "# print(model.predict([[1,1,20,0,400,1]]))"
   ],
   "metadata": {
    "collapsed": false,
    "pycharm": {
     "name": "#%%\n"
    }
   }
  },
  {
   "cell_type": "markdown",
   "source": [
    "#### feature importance\n",
    "with see the results on diagram, important features, would show themselves."
   ],
   "metadata": {
    "collapsed": false,
    "pycharm": {
     "name": "#%% md\n"
    }
   }
  },
  {
   "cell_type": "code",
   "execution_count": 28,
   "outputs": [
    {
     "name": "stdout",
     "output_type": "stream",
     "text": [
      "Pclass      0.094466\n",
      "Sex         0.231314\n",
      "Age         0.277025\n",
      "SibSp       0.053066\n",
      "Fare        0.304763\n",
      "Embarked    0.039367\n",
      "dtype: float64\n"
     ]
    }
   ],
   "source": [
    "import seaborn as sb\n",
    "import matplotlib.pylab as plt\n",
    "\n",
    "# print(model.feature_importances_)\n",
    "data=pd.Series(model.feature_importances_,index=[\"Pclass\",\"Sex\",\"Age\",\"SibSp\",\"Fare\",\"Embarked\"])\n",
    "#pandas series makes a set of 2 columns of data\n",
    "print(data)"
   ],
   "metadata": {
    "collapsed": false,
    "pycharm": {
     "name": "#%%\n"
    }
   }
  },
  {
   "cell_type": "code",
   "execution_count": 29,
   "outputs": [
    {
     "data": {
      "text/plain": "<Figure size 640x480 with 1 Axes>",
      "image/png": "[encoded data removed]"
     },
     "metadata": {},
     "output_type": "display_data"
    }
   ],
   "source": [
    "data=data.sort_values(ascending=False)\n",
    "# sb.barplot(x=data,y=data.index)\n",
    "sb.barplot(y=data,x=data.index)\n",
    "plt.show()"
   ],
   "metadata": {
    "collapsed": false,
    "pycharm": {
     "name": "#%%\n"
    }
   }
  }
 ],
 "metadata": {
  "kernelspec": {
   "display_name": "Python 3",
   "language": "python",
   "name": "python3"
  },
  "language_info": {
   "codemirror_mode": {
    "name": "ipython",
    "version": 2
   },
   "file_extension": ".py",
   "mimetype": "text/x-python",
   "name": "python",
   "nbconvert_exporter": "python",
   "pygments_lexer": "ipython2",
   "version": "2.7.6"
  }
 },
 "nbformat": 4,
 "nbformat_minor": 0
}